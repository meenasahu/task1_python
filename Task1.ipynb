{
 "cells": [
  {
   "cell_type": "raw",
   "id": "29615875-19f5-4ed5-aaf0-0785a2026506",
   "metadata": {},
   "source": [
    "1] Bold Text"
   ]
  },
  {
   "cell_type": "markdown",
   "id": "da920268-8b9a-4b9d-9ee3-90e772ac8e99",
   "metadata": {},
   "source": [
    "**this is bold text**"
   ]
  },
  {
   "cell_type": "raw",
   "id": "a7cefddd-a984-414b-beb6-d6677b11304a",
   "metadata": {},
   "source": [
    "2]Italic Text"
   ]
  },
  {
   "cell_type": "markdown",
   "id": "0129a3e5-ba7a-4cd9-87fb-d083e17201eb",
   "metadata": {},
   "source": [
    "*this is a italic text*"
   ]
  },
  {
   "cell_type": "raw",
   "id": "1505ad69-ef59-4975-aec3-53a7f8480f44",
   "metadata": {},
   "source": [
    "3] Numbered lists"
   ]
  },
  {
   "cell_type": "markdown",
   "id": "3262d3c8-2e22-4f35-9513-19777c42e11b",
   "metadata": {},
   "source": [
    "1. first item\n",
    "2. second item \n",
    "3. third item"
   ]
  },
  {
   "cell_type": "markdown",
   "id": "3d018724-d9c4-44e7-8599-07752e8ea4ce",
   "metadata": {},
   "source": [
    "4] code blocks"
   ]
  },
  {
   "cell_type": "markdown",
   "id": "b8e7eaab-ae64-4010-a6c3-c4c3c51ab24a",
   "metadata": {},
   "source": [
    "```python\n",
    "def function():\n",
    "return \"hello,world!\""
   ]
  },
  {
   "cell_type": "markdown",
   "id": "0170d2ee-4224-4cbe-8d5b-f8e1578f021b",
   "metadata": {},
   "source": [
    "5] Horizontal line"
   ]
  },
  {
   "cell_type": "markdown",
   "id": "4c5bb328-11ee-434f-b480-9af61555a25f",
   "metadata": {},
   "source": [
    "---"
   ]
  },
  {
   "cell_type": "markdown",
   "id": "5ede1f39-47c2-4005-9456-87a10a06d19d",
   "metadata": {},
   "source": [
    "6] blockquotes"
   ]
  },
  {
   "cell_type": "markdown",
   "id": "bacf9130-8b6e-41df-aa09-a08b1bb4cd1f",
   "metadata": {},
   "source": [
    ">this is a blockquote"
   ]
  },
  {
   "cell_type": "raw",
   "id": "cc4afcd3-c711-44e9-a9c5-e58f8aab849b",
   "metadata": {},
   "source": [
    "7] links"
   ]
  },
  {
   "cell_type": "markdown",
   "id": "f83f3a9b-cb46-458c-a8eb-648a6313dfb7",
   "metadata": {},
   "source": [
    "[link text](https://www.com)"
   ]
  },
  {
   "cell_type": "raw",
   "id": "83df33a3-5d5f-4765-8b8c-fb8e8040721e",
   "metadata": {},
   "source": [
    "8] images"
   ]
  },
  {
   "cell_type": "markdown",
   "id": "07215767-671c-4364-b1c1-7d4a8cc35ce6",
   "metadata": {},
   "source": [
    "![Alt text](image-url)"
   ]
  },
  {
   "cell_type": "markdown",
   "id": "e9727342-8f09-46ea-86e2-311b94a2aa2f",
   "metadata": {},
   "source": [
    "9] comments in code cells"
   ]
  },
  {
   "cell_type": "markdown",
   "id": "512178fc-c6fd-47d1-9db1-2d3108fb8dd7",
   "metadata": {},
   "source": [
    "# this is a single line comment"
   ]
  },
  {
   "cell_type": "markdown",
   "id": "31d6a0d0-1b3a-40a0-b1e6-a5481d30ca7e",
   "metadata": {},
   "source": [
    "10] Inline"
   ]
  },
  {
   "cell_type": "markdown",
   "id": "329b1300-35af-4ee0-bf5c-08e8171d45af",
   "metadata": {},
   "source": [
    "`print()`"
   ]
  }
 ],
 "metadata": {
  "kernelspec": {
   "display_name": "Python 3 (ipykernel)",
   "language": "python",
   "name": "python3"
  },
  "language_info": {
   "codemirror_mode": {
    "name": "ipython",
    "version": 3
   },
   "file_extension": ".py",
   "mimetype": "text/x-python",
   "name": "python",
   "nbconvert_exporter": "python",
   "pygments_lexer": "ipython3",
   "version": "3.12.4"
  }
 },
 "nbformat": 4,
 "nbformat_minor": 5
}
